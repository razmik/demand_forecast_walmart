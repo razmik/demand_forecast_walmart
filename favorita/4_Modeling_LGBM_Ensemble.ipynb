{
  "nbformat": 4,
  "nbformat_minor": 0,
  "metadata": {
    "colab": {
      "name": "4_Modeling_LGBM_Ensemble.ipynb",
      "provenance": []
    },
    "kernelspec": {
      "name": "python3",
      "display_name": "Python 3"
    }
  },
  "cells": [
    {
      "cell_type": "code",
      "metadata": {
        "id": "_k7X6AZTZ-mq",
        "colab_type": "code",
        "colab": {}
      },
      "source": [
        "import pandas as pd\n",
        "import numpy as np\n",
        "from sklearn.metrics import mean_squared_error, mean_absolute_error\n",
        "from os import listdir\n",
        "from os.path import join"
      ],
      "execution_count": 2,
      "outputs": []
    },
    {
      "cell_type": "code",
      "metadata": {
        "id": "0VTgmn16ZhGk",
        "colab_type": "code",
        "colab": {}
      },
      "source": [
        "model_outcome_folder = 'drive/My Drive/Colab Notebooks/Wishmart/model_outputs'\n",
        "lgbm_files = [join(model_outcome_folder, f) for f in listdir(model_outcome_folder)]"
      ],
      "execution_count": 8,
      "outputs": []
    },
    {
      "cell_type": "code",
      "metadata": {
        "id": "MeYXvuZNlmy9",
        "colab_type": "code",
        "colab": {
          "base_uri": "https://localhost:8080/",
          "height": 34
        },
        "outputId": "13aa6778-9580-43b0-d3ce-49e69bea082c"
      },
      "source": [
        "print(lgbm_files)"
      ],
      "execution_count": 4,
      "outputs": [
        {
          "output_type": "stream",
          "text": [
            "['drive/My Drive/Colab Notebooks/Wishmart/model_outputs/nn_log_scaled_out_full.csv', 'drive/My Drive/Colab Notebooks/Wishmart/model_outputs/lgbm_log_scaled_out_full.csv']\n"
          ],
          "name": "stdout"
        }
      ]
    },
    {
      "cell_type": "markdown",
      "metadata": {
        "id": "swlGAUQpaW4O",
        "colab_type": "text"
      },
      "source": [
        "Merge datasets."
      ]
    },
    {
      "cell_type": "code",
      "metadata": {
        "id": "LbUu2f3xaLzj",
        "colab_type": "code",
        "colab": {}
      },
      "source": [
        "types = {'store_nbr': 'int8',\n",
        "                'item_nbr': 'int32',\n",
        "                'class': 'int8',\n",
        "                'unit_sales': 'float32',\n",
        "         'perishable': 'int8'\n",
        "            }\n",
        "\n",
        "model_df = pd.read_csv(lgbm_files[0], parse_dates = ['date'], dtype = types, low_memory = True)\n",
        "model_df.rename(columns={'actual_unit_sales': 'actual', 'predicted_unit_sales': 'pred_m1'}, inplace=True)\n",
        "\n",
        "model_secondary = pd.read_csv(lgbm_files[1], parse_dates = ['date'], dtype = types, low_memory = True)\n",
        "model_secondary.rename(columns={'actual_unit_sales': 'actual', 'predicted_unit_sales': 'pred_m2'}, inplace=True)\n",
        "\n",
        "model_df['pred_m2'] = model_secondary['pred_m2']\n",
        "model_df[\"pred_final\"] = model_df[[\"pred_m1\", \"pred_m2\"]].max(axis=1)"
      ],
      "execution_count": null,
      "outputs": []
    },
    {
      "cell_type": "code",
      "metadata": {
        "id": "AAZh0OTE1poJ",
        "colab_type": "code",
        "colab": {}
      },
      "source": [
        "def get_error(weights, true_val, pred_val, predict_days_ahead=16):\n",
        "\n",
        "    mse = mean_squared_error(true_val, pred_val, sample_weight=weights)\n",
        "    rmse = np.sqrt(mse)\n",
        "\n",
        "    mae = mean_absolute_error(true_val, pred_val, sample_weight=weights)\n",
        "\n",
        "    mape = np.mean(np.abs((true_val - pred_val) / true_val)) * 100\n",
        "\n",
        "    try:\n",
        "        err = (true_val - pred_val) ** 2\n",
        "        err = err.sum(axis=1) * weights\n",
        "        nwrmsle = np.sqrt(err.sum() / weights.sum() / predict_days_ahead)\n",
        "    except:\n",
        "        nwrmsle = rmse\n",
        "\n",
        "    return mse, rmse, nwrmsle, mae, mape"
      ],
      "execution_count": 24,
      "outputs": []
    },
    {
      "cell_type": "code",
      "metadata": {
        "id": "R61ceH-KfS9_",
        "colab_type": "code",
        "colab": {
          "base_uri": "https://localhost:8080/",
          "height": 68
        },
        "outputId": "356c38fa-b229-4386-c78f-661c96cca58f"
      },
      "source": [
        "print(\"WMSE Model 1:\", mean_squared_error(model_df['actual'].values, model_df[\"pred_m1\"].values, sample_weight=(model_df[\"perishable\"].values * 0.25 + 1)))\n",
        "print(\"WMSE Model 2:\", mean_squared_error(model_df['actual'].values, model_df[\"pred_m2\"].values, sample_weight=(model_df[\"perishable\"].values * 0.25 + 1)))\n",
        "print(\"WMSE Ensemble:\", mean_squared_error(model_df['actual'].values, model_df[\"pred_final\"].values, sample_weight=(model_df[\"perishable\"].values * 0.25 + 1)))"
      ],
      "execution_count": 25,
      "outputs": [
        {
          "output_type": "stream",
          "text": [
            "WMSE Model 1: 71.85915140590872\n",
            "WMSE Model 2: 79.48696966655504\n",
            "WMSE Ensemble: 70.37848315673571\n"
          ],
          "name": "stdout"
        }
      ]
    },
    {
      "cell_type": "code",
      "metadata": {
        "id": "JySaQcj616vp",
        "colab_type": "code",
        "colab": {}
      },
      "source": [
        "weights = model_df[\"perishable\"].values * 0.25 + 1"
      ],
      "execution_count": 26,
      "outputs": []
    },
    {
      "cell_type": "code",
      "metadata": {
        "id": "N2_Ef5yl11--",
        "colab_type": "code",
        "colab": {
          "base_uri": "https://localhost:8080/",
          "height": 170
        },
        "outputId": "ed4e187d-b99a-4417-b119-0f58c98f0cca"
      },
      "source": [
        "get_error(weights, model_df['actual'].values, model_df[\"pred_m1\"].values)"
      ],
      "execution_count": 27,
      "outputs": [
        {
          "output_type": "stream",
          "text": [
            "/usr/local/lib/python3.6/dist-packages/ipykernel_launcher.py:8: RuntimeWarning: divide by zero encountered in true_divide\n",
            "  \n",
            "/usr/local/lib/python3.6/dist-packages/ipykernel_launcher.py:8: RuntimeWarning: invalid value encountered in true_divide\n",
            "  \n"
          ],
          "name": "stderr"
        },
        {
          "output_type": "execute_result",
          "data": {
            "text/plain": [
              "(71.85915140590872,\n",
              " 8.476977728289057,\n",
              " 8.476977728289057,\n",
              " 2.3971405287890573,\n",
              " nan)"
            ]
          },
          "metadata": {
            "tags": []
          },
          "execution_count": 27
        }
      ]
    },
    {
      "cell_type": "code",
      "metadata": {
        "id": "tXfIFI0ntc_g",
        "colab_type": "code",
        "colab": {
          "base_uri": "https://localhost:8080/",
          "height": 170
        },
        "outputId": "05e4b0b5-a2ad-41e6-e259-56071ac52a94"
      },
      "source": [
        "get_error(weights, np.log1p(model_df['actual'].values), np.log1p(model_df[\"pred_m1\"].values))"
      ],
      "execution_count": 30,
      "outputs": [
        {
          "output_type": "stream",
          "text": [
            "/usr/local/lib/python3.6/dist-packages/ipykernel_launcher.py:8: RuntimeWarning: divide by zero encountered in true_divide\n",
            "  \n",
            "/usr/local/lib/python3.6/dist-packages/ipykernel_launcher.py:8: RuntimeWarning: invalid value encountered in true_divide\n",
            "  \n"
          ],
          "name": "stderr"
        },
        {
          "output_type": "execute_result",
          "data": {
            "text/plain": [
              "(0.3621393796520343,\n",
              " 0.6017801755226191,\n",
              " 0.6017801755226191,\n",
              " 0.4485972174977284,\n",
              " nan)"
            ]
          },
          "metadata": {
            "tags": []
          },
          "execution_count": 30
        }
      ]
    },
    {
      "cell_type": "code",
      "metadata": {
        "id": "3A6jtDAt12B2",
        "colab_type": "code",
        "colab": {
          "base_uri": "https://localhost:8080/",
          "height": 170
        },
        "outputId": "10401855-a14c-4175-db57-baef419159a3"
      },
      "source": [
        "get_error(weights, model_df['actual'].values, model_df[\"pred_m2\"].values)"
      ],
      "execution_count": 28,
      "outputs": [
        {
          "output_type": "stream",
          "text": [
            "/usr/local/lib/python3.6/dist-packages/ipykernel_launcher.py:8: RuntimeWarning: divide by zero encountered in true_divide\n",
            "  \n",
            "/usr/local/lib/python3.6/dist-packages/ipykernel_launcher.py:8: RuntimeWarning: invalid value encountered in true_divide\n",
            "  \n"
          ],
          "name": "stderr"
        },
        {
          "output_type": "execute_result",
          "data": {
            "text/plain": [
              "(79.48696966655504,\n",
              " 8.915546515304323,\n",
              " 8.915546515304323,\n",
              " 2.619817636932413,\n",
              " nan)"
            ]
          },
          "metadata": {
            "tags": []
          },
          "execution_count": 28
        }
      ]
    },
    {
      "cell_type": "code",
      "metadata": {
        "id": "y1bgS1v3t0sm",
        "colab_type": "code",
        "colab": {
          "base_uri": "https://localhost:8080/",
          "height": 170
        },
        "outputId": "e71d233b-23a0-40c2-83d9-fb93bd7663e7"
      },
      "source": [
        "get_error(weights, np.log1p(model_df['actual'].values), np.log1p(model_df[\"pred_m2\"].values))"
      ],
      "execution_count": 31,
      "outputs": [
        {
          "output_type": "stream",
          "text": [
            "/usr/local/lib/python3.6/dist-packages/ipykernel_launcher.py:8: RuntimeWarning: divide by zero encountered in true_divide\n",
            "  \n",
            "/usr/local/lib/python3.6/dist-packages/ipykernel_launcher.py:8: RuntimeWarning: invalid value encountered in true_divide\n",
            "  \n"
          ],
          "name": "stderr"
        },
        {
          "output_type": "execute_result",
          "data": {
            "text/plain": [
              "(0.4224839519346684,\n",
              " 0.6499876552171344,\n",
              " 0.6499876552171344,\n",
              " 0.48991429965459793,\n",
              " nan)"
            ]
          },
          "metadata": {
            "tags": []
          },
          "execution_count": 31
        }
      ]
    },
    {
      "cell_type": "code",
      "metadata": {
        "id": "pzzQrCrc11u3",
        "colab_type": "code",
        "colab": {
          "base_uri": "https://localhost:8080/",
          "height": 102
        },
        "outputId": "ac53a8f5-1d40-48e5-d368-ecaccaf08697"
      },
      "source": [
        "get_error(weights, model_df['actual'].values, model_df[\"pred_final\"].values)"
      ],
      "execution_count": 29,
      "outputs": [
        {
          "output_type": "stream",
          "text": [
            "/usr/local/lib/python3.6/dist-packages/ipykernel_launcher.py:8: RuntimeWarning: divide by zero encountered in true_divide\n",
            "  \n",
            "/usr/local/lib/python3.6/dist-packages/ipykernel_launcher.py:8: RuntimeWarning: invalid value encountered in true_divide\n",
            "  \n"
          ],
          "name": "stderr"
        },
        {
          "output_type": "execute_result",
          "data": {
            "text/plain": [
              "(70.37848315673571, 8.38918846830465, 8.38918846830465, 2.504195318480556, nan)"
            ]
          },
          "metadata": {
            "tags": []
          },
          "execution_count": 29
        }
      ]
    },
    {
      "cell_type": "code",
      "metadata": {
        "id": "V2ueikGe2ahx",
        "colab_type": "code",
        "colab": {
          "base_uri": "https://localhost:8080/",
          "height": 170
        },
        "outputId": "6f8d927b-15ac-41ff-d75d-11a4020307d7"
      },
      "source": [
        "get_error(weights, np.log1p(model_df['actual'].values), np.log1p(model_df[\"pred_final\"].values))"
      ],
      "execution_count": 32,
      "outputs": [
        {
          "output_type": "stream",
          "text": [
            "/usr/local/lib/python3.6/dist-packages/ipykernel_launcher.py:8: RuntimeWarning: divide by zero encountered in true_divide\n",
            "  \n",
            "/usr/local/lib/python3.6/dist-packages/ipykernel_launcher.py:8: RuntimeWarning: invalid value encountered in true_divide\n",
            "  \n"
          ],
          "name": "stderr"
        },
        {
          "output_type": "execute_result",
          "data": {
            "text/plain": [
              "(0.40784093099258195,\n",
              " 0.6386242486725523,\n",
              " 0.6386242486725523,\n",
              " 0.48092080145342775,\n",
              " nan)"
            ]
          },
          "metadata": {
            "tags": []
          },
          "execution_count": 32
        }
      ]
    },
    {
      "cell_type": "code",
      "metadata": {
        "id": "MxEM5CAUuH8d",
        "colab_type": "code",
        "colab": {}
      },
      "source": [
        ""
      ],
      "execution_count": null,
      "outputs": []
    }
  ]
}