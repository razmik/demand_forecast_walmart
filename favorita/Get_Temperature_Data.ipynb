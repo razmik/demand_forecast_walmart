{
  "nbformat": 4,
  "nbformat_minor": 0,
  "metadata": {
    "colab": {
      "name": "Get Temperature Data.ipynb",
      "provenance": []
    },
    "kernelspec": {
      "name": "python3",
      "display_name": "Python 3"
    }
  },
  "cells": [
    {
      "cell_type": "markdown",
      "metadata": {
        "id": "wFGoelDElheR",
        "colab_type": "text"
      },
      "source": [
        "Use weather API to get historic data: https://www.worldweatheronline.com/developer/api/historical-weather-api.aspx"
      ]
    },
    {
      "cell_type": "code",
      "metadata": {
        "id": "AJ7mqrY5UcxU",
        "colab_type": "code",
        "colab": {}
      },
      "source": [
        "import requests\n",
        "import datetime\n",
        "from dateutil.relativedelta import relativedelta\n",
        "import pandas as pd\n",
        "from random import randint\n",
        "from time import sleep\n",
        "import pickle\n",
        "from os import makedirs\n",
        "from os.path import join, exists"
      ],
      "execution_count": null,
      "outputs": []
    },
    {
      "cell_type": "code",
      "metadata": {
        "id": "RFgdEe50X5n8",
        "colab_type": "code",
        "colab": {}
      },
      "source": [
        "save_folder = 'drive/My Drive/Colab Notebooks/Wishmart/weather_data/'\n",
        "stores_data_file = 'drive/My Drive/Colab Notebooks/Wishmart/data/stores.csv'"
      ],
      "execution_count": null,
      "outputs": []
    },
    {
      "cell_type": "code",
      "metadata": {
        "id": "XHi85g5rYG_r",
        "colab_type": "code",
        "colab": {
          "base_uri": "https://localhost:8080/",
          "height": 55
        },
        "outputId": "be194918-3f92-4474-bb85-50a9b1e279e7"
      },
      "source": [
        "stores_df = pd.read_csv(stores_data_file)\n",
        "unique_cities = list(stores_df['city'].unique())\n",
        "unique_cities = [\"{},ecuador\".format(c.lower().replace(' ','+')) for c in unique_cities]\n",
        "print(len(unique_cities), unique_cities)"
      ],
      "execution_count": null,
      "outputs": [
        {
          "output_type": "stream",
          "text": [
            "22 ['quito,ecuador', 'santo+domingo,ecuador', 'cayambe,ecuador', 'latacunga,ecuador', 'riobamba,ecuador', 'ibarra,ecuador', 'guaranda,ecuador', 'puyo,ecuador', 'ambato,ecuador', 'guayaquil,ecuador', 'salinas,ecuador', 'daule,ecuador', 'babahoyo,ecuador', 'quevedo,ecuador', 'playas,ecuador', 'libertad,ecuador', 'cuenca,ecuador', 'loja,ecuador', 'machala,ecuador', 'esmeraldas,ecuador', 'manta,ecuador', 'el+carmen,ecuador']\n"
          ],
          "name": "stdout"
        }
      ]
    },
    {
      "cell_type": "code",
      "metadata": {
        "id": "T2T0c10EYKmx",
        "colab_type": "code",
        "colab": {}
      },
      "source": [
        "begin_data = datetime.datetime(2013, 1, 1)\n",
        "end_date = datetime.datetime(2017, 8, 16)"
      ],
      "execution_count": null,
      "outputs": []
    },
    {
      "cell_type": "code",
      "metadata": {
        "id": "K3HJKafvbD77",
        "colab_type": "code",
        "colab": {
          "base_uri": "https://localhost:8080/",
          "height": 35
        },
        "outputId": "aaac960b-c812-492d-e207-64a0e6f81573"
      },
      "source": [
        "date_list = []\n",
        "curr_date = begin_data\n",
        "while curr_date < end_date:\n",
        "  date_list.append((curr_date, curr_date + relativedelta(months=+1)))\n",
        "  curr_date = curr_date + relativedelta(months=+1)\n",
        "len(date_list)"
      ],
      "execution_count": null,
      "outputs": [
        {
          "output_type": "execute_result",
          "data": {
            "text/plain": [
              "56"
            ]
          },
          "metadata": {
            "tags": []
          },
          "execution_count": 5
        }
      ]
    },
    {
      "cell_type": "code",
      "metadata": {
        "id": "-ceImxxwcYDG",
        "colab_type": "code",
        "colab": {
          "base_uri": "https://localhost:8080/",
          "height": 35
        },
        "outputId": "b43e1e5d-5d25-468c-9ad5-ed8b063e8c68"
      },
      "source": [
        "# api-endpoint \n",
        "URL = \"http://api.worldweatheronline.com/premium/v1/past-weather.ashx\"\n",
        "\n",
        "for city in unique_cities[:8]:\n",
        "  for begin, end in date_list:\n",
        "\n",
        "    out_name = 'w_{}_{}_{}'.format(city, begin.strftime(\"%Y-%m-%d\"), end.strftime(\"%Y-%m-%d\"))\n",
        "\n",
        "    # check if already downloaded\n",
        "    if exists(join(save_folder, '{}.csv'.format(out_name))):\n",
        "      continue\n",
        "\n",
        "    # Random timer\n",
        "    sleep(randint(10, 20))\n",
        "\n",
        "    print(city, begin, end)\n",
        "\n",
        "    params = {\n",
        "        'q': city,\n",
        "        'date': begin.strftime(\"%Y-%m-%d\"),\n",
        "        'enddate' : end.strftime(\"%Y-%m-%d\"),\n",
        "        'format' : 'json',\n",
        "        'key': '9770764302a947daae085734200308'\n",
        "    }\n",
        "    \n",
        "    # sending get request and saving the response as response object\n",
        "    try:\n",
        "      r = requests.get(url = URL, params = params)\n",
        "    except:\n",
        "      print('Error with ', out_name)\n",
        "      continue\n",
        "      \n",
        "    # extracting data in json format \n",
        "    try:\n",
        "      result_data = r.json()\n",
        "    except:\n",
        "      print('Error with ', out_name)\n",
        "      continue\n",
        "\n",
        "    weather_data_list = []\n",
        "    for days_weather in result_data['data']['weather']:\n",
        "      day = days_weather['date']\n",
        "      maxtempC = days_weather['maxtempC']\n",
        "      avgtempC = days_weather['avgtempC']\n",
        "      weather_data_list.append([day, maxtempC, avgtempC])\n",
        "\n",
        "    # Save as DF\n",
        "    df_temp = pd.DataFrame(weather_data_list, columns=['Date', 'MaxTemp', 'AvgTemp'])\n",
        "    df_temp.to_csv(join(save_folder, \"{}.csv\".format(out_name)), index=None)\n",
        "\n",
        "    # Save as pickle\n",
        "    with open(join(save_folder, \"{}.pickle\".format(out_name)), 'wb') as handle:\n",
        "      pickle.dump(result_data, handle, protocol=pickle.HIGHEST_PROTOCOL)\n",
        "\n",
        "    # Clean variables\n",
        "    del df_temp\n",
        "    del result_data\n",
        "    del weather_data_list\n",
        "    del r"
      ],
      "execution_count": null,
      "outputs": [
        {
          "output_type": "stream",
          "text": [
            "puyo,ecuador 2015-02-01 00:00:00 2015-03-01 00:00:00\n"
          ],
          "name": "stdout"
        }
      ]
    },
    {
      "cell_type": "markdown",
      "metadata": {
        "id": "gZQSAJrHifk9",
        "colab_type": "text"
      },
      "source": [
        "## Combine all files into a single CSV"
      ]
    },
    {
      "cell_type": "code",
      "metadata": {
        "id": "PhuZ_t7ja2w-",
        "colab_type": "code",
        "colab": {}
      },
      "source": [
        "in_folder = save_folder[:]\n",
        "out_file = 'drive/My Drive/Colab Notebooks/Wishmart/data/weather.csv'"
      ],
      "execution_count": null,
      "outputs": []
    },
    {
      "cell_type": "code",
      "metadata": {
        "id": "f-QZIXINa3E6",
        "colab_type": "code",
        "colab": {
          "base_uri": "https://localhost:8080/",
          "height": 35
        },
        "outputId": "8b0f7573-c87f-4c8f-c7be-728357905961"
      },
      "source": [
        "all_files = [join(in_folder, f) for f in listdir(in_folder) if '.csv' in f]\n",
        "len(all_files)"
      ],
      "execution_count": null,
      "outputs": [
        {
          "output_type": "execute_result",
          "data": {
            "text/plain": [
              "1232"
            ]
          },
          "metadata": {
            "tags": []
          },
          "execution_count": 19
        }
      ]
    },
    {
      "cell_type": "code",
      "metadata": {
        "id": "gp0uSuUeiQjP",
        "colab_type": "code",
        "colab": {
          "base_uri": "https://localhost:8080/",
          "height": 35
        },
        "outputId": "b1f496dd-f3c0-4720-dc8c-28a1143cedad"
      },
      "source": [
        "df_final = None\n",
        "\n",
        "for f in tqdm(all_files):\n",
        "  df = pd.read_csv(f)\n",
        "  df['location'] = f.split('/')[-1].split(',')[0].split('_')[-1].replace('+', ' ')\n",
        "\n",
        "  if df_final is None:\n",
        "    df_final = df\n",
        "  else:\n",
        "    df_final = df_final.append(df, ignore_index=True)"
      ],
      "execution_count": null,
      "outputs": [
        {
          "output_type": "stream",
          "text": [
            "100%|██████████| 1232/1232 [00:08<00:00, 137.06it/s]\n"
          ],
          "name": "stderr"
        }
      ]
    },
    {
      "cell_type": "code",
      "metadata": {
        "id": "GtGvmLY0jZaP",
        "colab_type": "code",
        "colab": {
          "base_uri": "https://localhost:8080/",
          "height": 439
        },
        "outputId": "f4df8908-7e34-4ecb-8c70-5e362e2067d2"
      },
      "source": [
        "df_final.groupby(['location'])['Date'].count()"
      ],
      "execution_count": null,
      "outputs": [
        {
          "output_type": "execute_result",
          "data": {
            "text/plain": [
              "location\n",
              "ambato           1760\n",
              "babahoyo         1760\n",
              "cayambe          1760\n",
              "cuenca           1760\n",
              "daule            1760\n",
              "el carmen        1760\n",
              "esmeraldas       1760\n",
              "guaranda         1760\n",
              "guayaquil        1760\n",
              "ibarra           1760\n",
              "latacunga        1760\n",
              "libertad         1760\n",
              "loja             1760\n",
              "machala          1760\n",
              "manta            1760\n",
              "playas           1760\n",
              "puyo             1760\n",
              "quevedo          1760\n",
              "quito            1760\n",
              "riobamba         1760\n",
              "salinas          1760\n",
              "santo domingo    1760\n",
              "Name: Date, dtype: int64"
            ]
          },
          "metadata": {
            "tags": []
          },
          "execution_count": 35
        }
      ]
    },
    {
      "cell_type": "code",
      "metadata": {
        "id": "_XAbDMYXj9WP",
        "colab_type": "code",
        "colab": {}
      },
      "source": [
        "df_final.to_csv(out_file, index=None)"
      ],
      "execution_count": null,
      "outputs": []
    },
    {
      "cell_type": "code",
      "metadata": {
        "id": "olNsIzh7k8IC",
        "colab_type": "code",
        "colab": {}
      },
      "source": [
        ""
      ],
      "execution_count": null,
      "outputs": []
    }
  ]
}